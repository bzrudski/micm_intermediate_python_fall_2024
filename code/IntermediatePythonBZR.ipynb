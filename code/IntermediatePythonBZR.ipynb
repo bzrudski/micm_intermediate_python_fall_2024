{
 "cells": [
  {
   "cell_type": "markdown",
   "id": "e49c93e4-f02a-4c79-a5c1-2960e451c28a",
   "metadata": {},
   "source": [
    "# Intermediate Python\n",
    "\n",
    "MiCM Workshop - November 1, 2024\n",
    "\n",
    "Benjamin Z. Rudski, PhD Candidate, Quantitative Life Sciences, McGill University\n",
    "\n",
    "Dear `Reader | Workshop Attendee`,\n",
    "\n",
    "Welcome! In this interactive Jupyter notebook, we will explore intermediate-level skills in the Python programming language. We'll cover material from functions and data classes to processing and visualising data using popular libraries. This workshop assumes that you have a basic knowledge of Python. If you don't feel free to check out some beginner resources. In a shameless self-promotion plug, you may find my [Intro to Python workshop]() helpful. We'll also review some of the core concepts before diving into new material, but I encourage you to make sure you're comfortable with the basics before tackling the new material.\n",
    "\n",
    "This workshop contains various exercises to help you practice the material. This notebook is the **student version**, which contains several blanks where I will write code during the workshop and where you can fill out exercises. There is a **solution version** in the [`solutions`](../solutions/) folder. I recommend trying the exercises yourself before looking at the solutions, There is often more than one way to answer a programming question, so you should focus more on understanding the code that you are writing, instead of just copying my answers. You may come up with an answer better than the one I've provided!"
   ]
  },
  {
   "cell_type": "markdown",
   "id": "408fe8a2-56d5-4583-981f-98ef8e1e31b3",
   "metadata": {},
   "source": [
    "# Table of Contents\n",
    "\n",
    "1.\t1. Module 1 – Getting Up to Speed (10 minutes)\n",
    "    1. Quick Review\n",
    "        1. What is Python?\n",
    "        2. Key Ideas and Syntax\n",
    "2. Module 2 – Introduction to Functions (45 minutes)\n",
    "    1. Function Overview\n",
    "        1. What is a function?\n",
    "    2. Writing Custom Functions\n",
    "        1. Basic function definitions\n",
    "        2. Passing inputs: Defining parameters\n",
    "        3. Producing outputs: Return values\n",
    "    3. Documenting Functions\n",
    "        1. Defining function docstrings\n",
    "        2. How to get help from your IDE: Type annotations (optional)\n",
    "    4. Exercise: Writing functions for biological sequences.\n",
    "3. Module 3 – Modules and Packages (45 minutes)\n",
    "    1. Using Modules\n",
    "        1. What is a Module?\n",
    "        2. Importing a Module\n",
    "        3. Importing Specific Functions\n",
    "    2. Package and Environment Management\n",
    "        1. What is a Package?\n",
    "        2. Installing Packages using conda\n",
    "        3. Installing Packages using pip\n",
    "        4. Using Packages and Reading Documentation\n",
    "        5. A Brief Intro to Environments\n",
    "    3. Exercise: Using `textwrap` to nicely print DNA sequences.\n",
    "4. Module 4 – Where to go from here (10 minutes)\n",
    "    1. What to learn next? How?\n",
    "    2. How to get help and how not to get help\n",
    "        1. Your code editor\n",
    "        2. Documentation\n",
    "        3. Books\n",
    "        4. Tutorials\n",
    "        5. Stack Overflow (and pitfalls)\n",
    "        6. ChatGPT (and pitfalls)\n",
    "    3. Glimpse of other cool programming topics"
   ]
  },
  {
   "cell_type": "markdown",
   "id": "bf430b75-21ee-474b-bfe2-41ead87088bc",
   "metadata": {},
   "source": [
    "# Learning Objectives\n",
    "\n",
    "By the end of this workshop, you'll have the skills necessary to:\n",
    "\n",
    "1.\tDefine and call new functions.\n",
    "2.\tImport and use code from built-in Python modules.\n",
    "3.\tInstall new packages to access even more tools.\n",
    "\n",
    "Ready? Let's dive into the material!"
   ]
  },
  {
   "cell_type": "markdown",
   "id": "75ebd402-3f15-4781-8781-a5f55550bc3d",
   "metadata": {},
   "source": [
    "# Module 1 - Getting up to Speed\n",
    "\n",
    "In this module, we make sure that everyone is on the same playing field in terms of basic Python knowledge. This section is meant to **briefly** cover the important concepts. It does **not** replace an introductory course.\n",
    "\n",
    "## Quick Review\n",
    "\n",
    "In this quick review, we explore two main questions:\n",
    "\n",
    "1. What is Python?\n",
    "2. What are its key ideas and important syntax elements?\n",
    "\n",
    "### What is Python?\n",
    "\n",
    "Python is a **free and open-source**, **object-oriented** and **interpreted** programming language. Here's a bit more detail:\n",
    "\n",
    "* **Free and open-source:** Anyone can download, install, use, copy, modify and redistribute Python. Everyone can see how Python is developed and even contribute to the project.\n",
    "* **Object-oriented:** everything in Python is represented as an **object**, or a grouping of data, called **attributes** with behaviour, called **methods**.\n",
    "* **Interpreted:** There's no need to compile Python code. Python runs your code one line at a time, so it's easy to make changes to your code.\n",
    "\n",
    "For more information about Python, make sure to check out the official Python website at https://www.python.org."
   ]
  },
  {
   "cell_type": "markdown",
   "id": "603b871a-7496-473b-88a3-dde978ec3e0c",
   "metadata": {},
   "source": [
    "### Key Ideas and Syntax\n",
    "\n",
    "Here, we do a lightning review of important concepts, with some illustrations.\n",
    "\n",
    "#### Variables\n",
    "**Variables** contain pieces of data. A variable has a name, which may only contain letters, numbers and underscores. A variable name may **not** start with a number.\n",
    "\n",
    "Python has no constants.\n",
    "\n",
    "Variables are simply assigned using the `=` sign:"
   ]
  },
  {
   "cell_type": "code",
   "execution_count": null,
   "id": "980561b8-f80f-4ae4-afe2-4bb2c97c6392",
   "metadata": {},
   "outputs": [],
   "source": [
    "my_variable = 5"
   ]
  },
  {
   "cell_type": "markdown",
   "id": "c4beab07-0761-4066-bee4-289277e03e08",
   "metadata": {},
   "source": [
    "#### Data Types\n",
    "\n",
    "Python has the following commonly-used data types:\n",
    "\n",
    "##### Primitive Data Types\n",
    "\n",
    "* `int` - Integer, representing a whole number. For example: `5`.\n",
    "* `float` - Floating point number, representing a decimal number. For example: `4.0`.\n",
    "* `bool` - Boolean value, `True` or `False`.\n",
    "* `str` - Text string. For example: `\"Hello, World!\"`.\n",
    "\n",
    "##### Collection Types\n",
    "* `tuple` - Tuple, containing a small fixed number of values, not necessarily of the same type. Enclosed in round brackets. For example: `(404, \"Not Found\")`.\n",
    "* `list` - List, containing a variable number of elemnts, typically of the same type. Enclosed in square brackets. For example: `[\"T\", \"R\", \"M\", \"A\", \"Q\"]`.\n",
    "* `dict` - Dictionary, containing key-value pairs. Enclosed in brace brackets. For example: `{\"purines\": [\"A\", \"G\"], \"pyrimidines\": [\"C\", \"U\", \"T\"]}`.\n",
    "\n",
    "To find out the type of a variable, we can use the `type()` function."
   ]
  },
  {
   "cell_type": "markdown",
   "id": "c0f63e46-911f-4fc6-a998-daf92a7a927f",
   "metadata": {},
   "source": [
    "#### Control Flow and Loops\n",
    "\n",
    "Control flow and loops let us change the running of the code, allowing some lines to run, but not others, and allowing lines to be repeated multiple times.\n",
    "\n",
    "##### Control Flow - The `if` Statement\n",
    "\n",
    "```python\n",
    "\n",
    "if some_boolean:\n",
    "    run_some_code()\n",
    "    ...\n",
    "elif some_other_boolean:\n",
    "    run_other_code()\n",
    "    ...\n",
    "elif yet_another_boolean:\n",
    "    run_other_other_code()\n",
    "    ...\n",
    "else:\n",
    "    run_code_if_no_match()\n",
    "    ...\n",
    "\n",
    "run_code_regardless()\n",
    "```\n",
    "\n",
    "The `if` statement is the only required. You can add as many `elif` clauses as you want (within reason), and at most one `else` clause. The most important thing to remember is to **indent**.\n",
    "\n",
    "##### `while` Loops\n",
    "\n",
    "```python\n",
    "\n",
    "while some_boolean:\n",
    "    run_some_code()\n",
    "    ...\n",
    "    update_boolean()\n",
    "\n",
    "run_other_code()\n",
    "\n",
    "```\n",
    "\n",
    "Again, notice the indent. The block is done when the indent changes.\n",
    "\n",
    "**Warning:** (almost) never put a pure boolean value in as `some_boolean`. Instead, put an expression that relies on a value that gets updated in the loop.\n",
    "\n",
    "##### `for` Loops\n",
    "\n",
    "```python\n",
    "\n",
    "for variable in some_iterable:\n",
    "    run_some_code()\n",
    "\n",
    "run_other_code()\n",
    "```\n",
    "\n",
    "The key idea here is that the value of `variable` changes each time the loop runs.\n"
   ]
  },
  {
   "cell_type": "markdown",
   "id": "c00f9756-3633-4d5b-9095-f92d382c7071",
   "metadata": {},
   "source": [
    "Now that we've seen the key concepts, let's jump into our material!"
   ]
  },
  {
   "cell_type": "markdown",
   "id": "5debe58f-e3bd-498a-a6e8-22bd6e6c121d",
   "metadata": {},
   "source": [
    "# Module 2 - Introduction to Functions\n",
    "\n",
    "In this module, we'll explore functions. By now, you've almost certainly used existing functions, like `abs` or `round` or, of course, `print`. Here, we'll see not only how to *use* functions, but also how to *define* them.\n",
    "\n",
    "Here's the outline for this module:\n",
    "\n",
    "1. Function Overview\n",
    "    1. What is a function?\n",
    "2. Writing Custom Functions\n",
    "    1. Basic function definitions\n",
    "    2. Passing inputs: Defining parameters\n",
    "    3. Producing outputs: Return values\n",
    "3. Documenting Functions\n",
    "    1. Defining function docstrings\n",
    "    2. How to get help from your IDE: Type annotations\n",
    "4. Exercise\n"
   ]
  },
  {
   "attachments": {},
   "cell_type": "markdown",
   "id": "a9c4f562-ef28-48ca-bfd9-0e86578d5afd",
   "metadata": {},
   "source": [
    "## Function Overview\n",
    "\n",
    "We hear this word a lot... *function, function, function...*, but what does it mean? Let's find out!\n",
    "\n",
    "### What is a Function?\n",
    "\n",
    "We can think of functions as **machines** that take in **inputs**, run code (do calculations, magic or a bit of both), and then produce an **output** that can be used.\n",
    "\n",
    "The inputs are known as *parameters* or *arguments* and the outputs are known as *return values*.\n",
    "\n",
    "Here's a diagram to illustrate this.\n",
    "\n",
    "![Function as a machine](../assets/function/Function.png)\n",
    "\n",
    "Like anything in Python, a function has a **name**. To run the function, we must **call it** by writing its name, and then including the arguments in brackets.\n",
    "\n",
    "**Remember! Even if the function has no arguments, you must put the brackets!**\n",
    "\n",
    "If the function **returns** a value, we can store it in a variable using the typical `=` assignment.\n",
    "\n",
    "Python has a number of [built-in](https://docs.python.org/3/library/functions.html) functions. Let's explore one of them. Let's call the [`round`](https://docs.python.org/3/library/functions.html#round) function:"
   ]
  },
  {
   "cell_type": "code",
   "execution_count": null,
   "id": "ecb622ad-ef77-4e5a-bc4e-26d885b64afd",
   "metadata": {},
   "outputs": [],
   "source": [
    "# Your code here\n"
   ]
  },
  {
   "cell_type": "markdown",
   "id": "121f28ea-96c6-4839-93f6-bb7cde50144c",
   "metadata": {},
   "source": [
    "We can learn more about any function using the built-in `help` function:"
   ]
  },
  {
   "cell_type": "code",
   "execution_count": null,
   "id": "02f5a4d0-8762-453f-98df-b030bce5ab42",
   "metadata": {},
   "outputs": [],
   "source": [
    "# Your code here\n"
   ]
  },
  {
   "cell_type": "markdown",
   "id": "c25160cd-59a1-43b4-aae3-a86644bb08de",
   "metadata": {},
   "source": [
    "This help documentation, known as a **docstring** tells us important information about the function. It describes the parameters and return values, as well as any quirks that the function may have.\n",
    "\n",
    "In addition to using the `help` function, we can also read the docstring online, at the official Python documentation: https://docs.python.org/3/library/functions.html#round."
   ]
  },
  {
   "cell_type": "markdown",
   "id": "50233d74-d2c0-4f55-abda-b5094875457b",
   "metadata": {},
   "source": [
    "## Writing Custom Functions\n",
    "\n",
    "Now that we've review what functions are and how to *use* them, let's dive into **defining** our own.\n",
    "\n",
    "### Why write our own functions?\n",
    "\n",
    "It's all good and fun to write all the steps you want to do line-by-line. But, let's say you want to run the same set of steps multiple times, potentially on different inputs. You could just copy-paste the code... but what happens if you have to change it? You'll have to change all the copies!\n",
    "\n",
    "Instead of copying the code, we can write new **functions**."
   ]
  },
  {
   "cell_type": "markdown",
   "id": "21c7767a-aeb2-4482-8b41-c8c955876ddc",
   "metadata": {},
   "source": [
    "### A Bit of Syntax\n",
    "\n",
    "In Python, functions are defined using the `def` keyword. The syntax is:\n",
    "\n",
    "```python\n",
    "\n",
    "def function_name(argument1, argument2, argument3, ..., argumentN):\n",
    "    \"\"\"\n",
    "    documentation here\n",
    "    \"\"\"\n",
    "\n",
    "    your_code_here...\n",
    "\n",
    "    return some_value\n",
    "\n",
    "```\n",
    "Here are the important elements to notice when **defining** a function:\n",
    "\n",
    "* The function definition begins with the `def` keyword. This is similar to the `function` keyword in Javascript, or the `func` keyword in Swift.\n",
    "* The **function name** follows the same rules as variable names. There are different naming conventions for names that consist of multiple words (`snake_case` vs `camelCase`). By common convention, the function name starts with a **lowercase** letter.\n",
    "* After the function name, you can include a list of parameters in parentheses. **If your function takes no arguments, you must still put the brackets.** Each argument in the list must have a valid variable name. We'll discuss these in more detail later.\n",
    "* After closing the argument list bracket, we put a **colon** (`:`).\n",
    "* After the first line, we must **indent**. This tells Python where the function body begins and ends.\n",
    "* We can start the body with a **docstring**, which describes the function. We'll discuss these more later.\n",
    "* Then, you write your code as normal. In this function body, treat the arguments **like normal variables**.\n",
    "* To **output** a result that can be used later, use the keyword `return`, followed by the result. We'll discuss this more later.\n",
    "* After finishing to define the function, simply stop indenting. There's no need to close any brackets or type `end`."
   ]
  },
  {
   "cell_type": "markdown",
   "id": "95f44888-8266-4096-9f0d-df6a8c3a09eb",
   "metadata": {},
   "source": [
    "To demonstrate, let's write a function with no arguments that simply prints a string onto the screen:"
   ]
  },
  {
   "cell_type": "code",
   "execution_count": null,
   "id": "769b2208-4ee9-4b58-b5b9-4f2727a0da0d",
   "metadata": {},
   "outputs": [],
   "source": [
    "# Your code here\n"
   ]
  },
  {
   "cell_type": "markdown",
   "id": "f02e9fda-fb5c-4b24-be2f-e5c41531652c",
   "metadata": {},
   "source": [
    "Wait! What happened? Or well, what didn't happen? We didn't see any string... What's going on?\n",
    "\n",
    "Well, we only **defined** the function. To actually run the function we must *call* it. To call a function, simply write the name of the function, followed by the desired arguments in brackets. **If the function takes no arguments, you must still type the empty brackets.**"
   ]
  },
  {
   "cell_type": "markdown",
   "id": "4ba5e93d-ad97-409a-a8da-6417b2267ae4",
   "metadata": {},
   "source": [
    "Let's call our function we just defined:"
   ]
  },
  {
   "cell_type": "code",
   "execution_count": null,
   "id": "29928773-62b7-4462-b713-6a6843df2354",
   "metadata": {},
   "outputs": [],
   "source": [
    "# Your code here\n"
   ]
  },
  {
   "cell_type": "markdown",
   "id": "92a3ee1e-0c50-4804-a0bb-b03ec2ee1627",
   "metadata": {},
   "source": [
    "### Function Parameters\n",
    "\n",
    "This function worked, but we didn't really put the *fun* in *function*.\n",
    "\n",
    "We said that a function takes input and produces output... This does neither!!! So, let's create a function with some parameters! Let's look at the specific syntax:\n",
    "\n",
    "```python\n",
    "\n",
    "def my_function(arg1, arg2, arg3, ..., argN):\n",
    "    my_code...\n",
    "\n",
    "```\n",
    "\n",
    "We separate each parameter using **commas (,)**. We can then refer to these as variables in the function body. In this case, in the function body's code, you can refer to `arg1` just as you would any other variable.\n",
    "\n",
    "As an example, let's write a function that takes a DNA sequence as input and prints the transcribed RNA. To make it more interesting, let's add an extra parameter that indicates whether we are considering the sequence to be on the template strand or not. For simplicity, let's ignore the directionality of DNA.\n",
    "\n",
    "Remember, if the DNA is on the template strand, we must perform base-pairing!"
   ]
  },
  {
   "cell_type": "code",
   "execution_count": null,
   "id": "9477265e-aa6b-4c4f-b4b0-5dd755c6e991",
   "metadata": {},
   "outputs": [],
   "source": [
    "# Your code here\n"
   ]
  },
  {
   "cell_type": "markdown",
   "id": "25fc9b22-b6cd-4bf9-9c81-5f92a5d4908a",
   "metadata": {},
   "source": [
    "And now, let's call this function using a specific sequence."
   ]
  },
  {
   "cell_type": "code",
   "execution_count": null,
   "id": "be33b9a2-f628-4cde-b1ae-973639b916ae",
   "metadata": {},
   "outputs": [],
   "source": [
    "my_sequence = \"AATTAGCGAGCCGAATATATAGCCGCGATTCAGACAGTTCCAGCGCA\"\n",
    "\n",
    "# Your code here\n"
   ]
  },
  {
   "cell_type": "markdown",
   "id": "2fc8681b-0e56-4afc-bf4a-ace07f199e25",
   "metadata": {},
   "source": [
    "This works well! Except, what if most of the time, we're going to call the function on the template strand? It would be nice if we didn't have to specify this argument every time we call the function and if we could give it a default value."
   ]
  },
  {
   "cell_type": "markdown",
   "id": "c5e51a01-bf48-434e-84c6-367fca790df1",
   "metadata": {},
   "source": [
    "#### Keyword Arguments\n",
    "\n",
    "Good news! We can set default values for function arguments. These are known as *keyword* arguments. Values without a default value are known as *positional* arguments. To specify the default value, simply assign the value with `=`:\n",
    "\n",
    "```python\n",
    "\n",
    "def my_function(my_positional_arg, my_kw_arg=default_value):\n",
    "    ...\n",
    "\n",
    "```\n",
    "\n",
    "Let's extend our transcription example to set a default value for the `is_template_strand` parameter:"
   ]
  },
  {
   "cell_type": "code",
   "execution_count": null,
   "id": "9829780f-e79e-472e-8e00-197a405cc2e1",
   "metadata": {},
   "outputs": [],
   "source": [
    "# Your code here to modify the function\n"
   ]
  },
  {
   "cell_type": "markdown",
   "id": "9258fe2e-5614-418e-9baa-c1b6ecec224c",
   "metadata": {},
   "source": [
    "So, now we can call the function without having to specify a value for the second parameter:"
   ]
  },
  {
   "cell_type": "code",
   "execution_count": null,
   "id": "51f0c8ac-22b7-4269-9eab-bc41e6668c5d",
   "metadata": {},
   "outputs": [],
   "source": [
    "# Your code here to call the function\n"
   ]
  },
  {
   "cell_type": "markdown",
   "id": "8e041100-8313-4dd2-bf5a-f54d924b0097",
   "metadata": {},
   "source": [
    "There are a few **important rules** to remember about positional and keyword arguments:\n",
    "\n",
    "1. Positional arguments **always** come first, both when defining and when calling functions.\n",
    "2. When calling a function, you **must** include **all** positional arguments, but you can omit keyword arguments (since they have default values).\n",
    "3. Keyword arguments can be passed in **any order**, but positional arguments must be kept in the same order.\n",
    "\n",
    "Here are some more technical notes:\n",
    "1. **Any** argument can be written in keyword argument form when calling a function, but if you write a positional argument in keyword form, **all** subsequent arguments must be written in keyword form.\n",
    "2. **Any** argument can be written in positional form when calling a function, but **all** preceding arguments must be written in this positional form as well."
   ]
  },
  {
   "cell_type": "markdown",
   "id": "eff28ab9-8915-4386-af7c-59e1bd18c627",
   "metadata": {},
   "source": [
    "### Function Return Values\n",
    "\n",
    "So, we've seen how to pass information into functions, but now, how do we get information out? The answer is **return values**. These return values let us capture the result of a function, which we can then use like a normal variable in code. To return a value, we simply type `return` followed by the value we want to return.\n",
    "\n",
    "Here's the syntax:\n",
    "```python\n",
    "\n",
    "def my_function(...):\n",
    "    ...\n",
    "\n",
    "    my_result = ...\n",
    "\n",
    "    ...\n",
    "\n",
    "    return my_result\n",
    "\n",
    "```\n",
    "\n",
    "Let's now switch our previous transcription function to *return* the mRNA instead of simply printing it:"
   ]
  },
  {
   "cell_type": "code",
   "execution_count": null,
   "id": "4ce9e2ee-d5f0-40c7-8b7b-3c03ff117134",
   "metadata": {},
   "outputs": [],
   "source": [
    "# Your code here to modify the function to return a result\n"
   ]
  },
  {
   "cell_type": "markdown",
   "id": "5e84ab2a-db45-4328-8720-423277a5615e",
   "metadata": {},
   "source": [
    "So, this is how to return the value. Now, let's see how to capture and use it. To capture the value, we simply assign it to a variable, like normal, using the equal sign `=`."
   ]
  },
  {
   "cell_type": "code",
   "execution_count": null,
   "id": "3d42cb6d-bf60-473b-bf0a-f985febb9569",
   "metadata": {},
   "outputs": [],
   "source": [
    "# Your code here\n"
   ]
  },
  {
   "cell_type": "markdown",
   "id": "affc0516-9d54-44df-9d37-ac0987e7df6e",
   "metadata": {},
   "source": [
    "**Note:** If your code has multiple branches, you can put multiple return statements in your code. **But**, once your code reaches the `return` line, the function **stops** and returns to the code that called it. Any code that you've written after the `return` statement **will not run**.\n",
    "\n",
    "Let's just repeat that again: **Code underneath a `return` statement WILL NOT RUN.**\n",
    "\n",
    "If you're using a good code editor, it will give you a warning about this \"dead code\"."
   ]
  },
  {
   "cell_type": "markdown",
   "id": "25067908-4716-4da5-83fa-fd18efe78fb7",
   "metadata": {},
   "source": [
    "We can also return *multiple* values using tuples, lists or dictionaries. For example, let's say we want to count the number of each type of nucleotide in a sequence of DNA:"
   ]
  },
  {
   "cell_type": "code",
   "execution_count": null,
   "id": "f23357d0-c994-4c36-b635-2e89ecb4d13b",
   "metadata": {},
   "outputs": [],
   "source": [
    "# Your code here\n"
   ]
  },
  {
   "cell_type": "markdown",
   "id": "6f73cf97-6b64-4640-8d73-3a0af49c2e65",
   "metadata": {},
   "source": [
    "Now, let's run this code on our example sequence:"
   ]
  },
  {
   "cell_type": "code",
   "execution_count": null,
   "id": "80210d33-f9cd-4b17-8981-bca1e8d41e0b",
   "metadata": {},
   "outputs": [],
   "source": [
    "# Your code here\n"
   ]
  },
  {
   "cell_type": "markdown",
   "id": "09c81015-afcd-45e3-9e22-0cc07363ba34",
   "metadata": {},
   "source": [
    "This is great! But let's say you get this function from someone else to import and use in your own code. You don't want to have to find this function and read all the code just to use it... But, how do we know what parameters this function takes and what values it returns..."
   ]
  },
  {
   "cell_type": "markdown",
   "id": "69d16037-909a-4215-b969-2fb51bb3bdf6",
   "metadata": {},
   "source": [
    "## Documenting Functions\n",
    "\n",
    "The answer to this question is **documentation**. Remember how we looked at the `help` for the `round` function earlier? We can do the same thing for our custom functions!\n",
    "\n",
    "### Defining Function Docstrings\n",
    "\n",
    "When defining a function, we can provide a *docstring*, which describes the important information about a function in a **human-readable** form. The docstring is just a string that a person can read to learn more about a function. If you're using a code editor or IDE, like VS code or PyCharm, this string appears when you hover your mouse over a function. The information contained in this docstring can include:\n",
    "\n",
    "* A brief description of the function.\n",
    "* A longer description of the function. If you're implementing an existing approach, it could be good to include a citation here. You can also include equations here.\n",
    "* A description of the function parameters, including their types.\n",
    "* A description of the function return values, as well as their types. This is especially useful if you are returning multiple values and need to include their order.\n",
    "\n",
    "Let's clarify our previous example by adding a docstring:\n"
   ]
  },
  {
   "cell_type": "code",
   "execution_count": null,
   "id": "010e4ece-8a84-422a-bbe5-96134736a80d",
   "metadata": {},
   "outputs": [],
   "source": [
    "# Your code here to add a docstring to our function\n"
   ]
  },
  {
   "cell_type": "markdown",
   "id": "90e379b0-c37f-410d-a535-51ea3b084b14",
   "metadata": {},
   "source": [
    "Now that we have a docstring, we can actually read it using the `help` function!"
   ]
  },
  {
   "cell_type": "code",
   "execution_count": null,
   "id": "c09b2234-c1c0-4608-9f4a-57fa11eb9898",
   "metadata": {},
   "outputs": [],
   "source": [
    "# Your code here to look at the help for count_nucleotides.\n"
   ]
  },
  {
   "cell_type": "markdown",
   "id": "3cfcdc37-e41e-4e3a-ac99-657326a9d659",
   "metadata": {},
   "source": [
    "While there are not many rules for how to write docstrings, there are some guidelines laid out in the Python documentation in [PEP 257](https://peps.python.org/pep-0257/). There are also a number of common conventions used. One is the **numpydoc** style, which is used by the developers of the NumPy project. This style is described online [here](https://numpydoc.readthedocs.io/) and is integrated into some code editors."
   ]
  },
  {
   "cell_type": "markdown",
   "id": "c70fa89a-8eda-4d90-ae66-323ae2d8f816",
   "metadata": {},
   "source": [
    "### How to Get Help from your IDE: Type Annotations (Optional)\n",
    "\n",
    "So, this is great for making it easy for other people to read... But, the docstring is just a string. The code editor doesn't understand it and can't give us suggestions based on it. But, we can do get this extra help using **type hints**.\n",
    "\n",
    "**Type hints** are a relatively recent addition to Python. They allow us to *explicitly* indicate the types of function parameters, return values and any other variable. That way, the code editor can tell us if we've passed the wrong type of value somewhere, or even give us suggestions as we type."
   ]
  },
  {
   "cell_type": "markdown",
   "id": "ca8118db-344f-4c8b-867d-f96460f77e2c",
   "metadata": {},
   "source": [
    "#### A quick refresh on types\n",
    "\n",
    "Everything in Python has a type. When you have a string of text, such as `\"Hello, world!\"`, it is a Python *object* of type `str` (string). If you have an integer number, like `4`, it is an object of type `int`. If you have a list, it is an object of type `list`. Hopefully, you get the idea by now.\n",
    "\n",
    "In many cases the type can be inferred. For example, if you write\n",
    "```python\n",
    "\n",
    "x = 5\n",
    "\n",
    "```\n",
    "\n",
    "Then you know that `x` has type `int`. You can check the type of a variable `x` by running:\n",
    "```python\n",
    "type(x)\n",
    "```\n",
    "\n",
    "We'll see later how to create new types.\n",
    "\n",
    "Let's see a few more examples of types:"
   ]
  },
  {
   "cell_type": "code",
   "execution_count": null,
   "id": "7f319b89-fcca-4946-9f30-1e1eaf39422b",
   "metadata": {},
   "outputs": [],
   "source": [
    "# Your code here\n"
   ]
  },
  {
   "cell_type": "markdown",
   "id": "e5589048-860b-4ac7-a786-a3396bae9a0d",
   "metadata": {},
   "source": [
    "#### Type Hints\n",
    "\n",
    "Although in the earlier cases we saw the type is implied, we can also explicitly set the type of different variables. We do this by adding a colon and the name of the type after the variable name. For example:\n",
    "```python\n",
    "\n",
    "x: int = 6\n",
    "y: str = \"world\"\n",
    "\n",
    "```\n",
    "\n",
    "This extra bit that we add is known as a *type hint*. It gives a hint to the reader and the code editor about the specific type of the variable.\n",
    "\n",
    "**Note:** Type variables are simply an annotation. They *don't* actually change the type of the object. If you want to convert from one type to another, you need a different function.\n",
    "\n",
    "#### Type Hints and Functions\n",
    "\n",
    "There are certain operations that we can only perform on certain types. For example, you can subtract two `int`s or two `float`s, but you can't subtract two `str`s. In your function, you perform operations on the arguments that are passed in. These operations often make assumptions about the **type** of the arguments. With type hints, you express clearly for the computer, as well as your code editor, what exactly those assumptions are.\n",
    "\n",
    "To add type hints to the **parameters**, we just repeat the above syntax with the colon and the type name after the parameter names.\n",
    "\n",
    "We can also use type hits to indicate the **return type**. After defining the parameters, but **before the colon**, we can put an arrow `->` followed by the return type.\n",
    "\n",
    "\n",
    "Let's add type hints to our earlier transcription code:"
   ]
  },
  {
   "cell_type": "code",
   "execution_count": null,
   "id": "4b651f77-b991-4714-a999-bed5c627211d",
   "metadata": {},
   "outputs": [],
   "source": [
    "# Your code here to add type hints\n"
   ]
  },
  {
   "cell_type": "markdown",
   "id": "df4c87c6-991d-4185-b233-060178dea63e",
   "metadata": {},
   "source": [
    "You may not be entirely convinced yet... But, if you're using a code editor like **Microsoft Visual Studio Code** or **PyCharm**, you'll get error highlights if you try to call the function with the wrong type of argument."
   ]
  },
  {
   "attachments": {},
   "cell_type": "markdown",
   "id": "40e6b546-5dda-4867-956d-e2058596be2b",
   "metadata": {},
   "source": [
    "For collection types, like `list` and `tuple`, we can also modify the type hint to give information about the *contents*. We put the type contained in the collection in **square brackets** after the collection type name. For example, you can denote a list of strings as:\n",
    "\n",
    "```python\n",
    "my_list: list[str] = [\"Hello\", \"World\"]\n",
    "\n",
    "my_float_tuple: tuple[float, float] = (3.2, -5.7)\n",
    "```\n",
    "\n",
    "Another cool thing is that in some editors, if you hover your mouse over the function name, when you see the function header, you see the types! So this will help you get a better idea of what types you need."
   ]
  },
  {
   "cell_type": "markdown",
   "id": "e48fee10-97cc-4033-8176-fb2feb4e6d84",
   "metadata": {},
   "source": [
    "## Module Summary\n",
    "\n",
    "In this module, we've explored **functions**. Specifically, we've seen:\n",
    "\n",
    "* What functions are and how to **call** them.\n",
    "* How to **define new functions**, which take in **parameters** and **return** results.\n",
    "* How to **document** functions using **docstrings** and **type hints (optional)** to make them easier to understand and reuse.\n",
    "\n",
    "Now, let's take a look at our exercise!"
   ]
  },
  {
   "cell_type": "markdown",
   "id": "09f2816d-7cba-4611-be7f-df7fdcfcf93e",
   "metadata": {},
   "source": [
    "## Exercise: Writing Functions for Biological Sequences\n",
    "\n",
    "Proteins are composed of sequences of amino acids, arranged in polypeptide sequences. There are 20 common amino acids, which have different properties. We'll focus on polarity and charge. Amino acids are grouped into four categories:\n",
    "1. Non-polar\n",
    "2. Polar\n",
    "3. Acidic\n",
    "4. Basic\n",
    "\n",
    "Let's write a function called `compute_amino_acid_properties` that takes a peptide sequence and returns the number of amino acids falling into each category. I've given you a dictionary with the amino acids and their properties as a starting point (obtained from [Wikipedia](https://en.wikipedia.org/wiki/DNA_and_RNA_codon_tables))."
   ]
  },
  {
   "cell_type": "code",
   "execution_count": null,
   "id": "8112d558-ad52-40c7-be5b-913138edf34c",
   "metadata": {},
   "outputs": [],
   "source": [
    "AMINO_ACID_PROPERTIES = {\n",
    "    \"NON_POLAR\": [\"F\", \"L\", \"I\", \"M\", \"V\", \"P\", \"A\", \"W\", \"G\"],\n",
    "    \"POLAR\": [\"S\", \"T\", \"Y\", \"Q\", \"N\", \"C\"],\n",
    "    \"ACIDIC\": [\"D\", \"E\"],\n",
    "    \"BASIC\": [\"H\", \"K\", \"R\"]\n",
    "}\n",
    "\n",
    "# Your code here\n"
   ]
  },
  {
   "cell_type": "code",
   "execution_count": null,
   "id": "e78ac597-359e-4217-9029-a26cb0dfad77",
   "metadata": {},
   "outputs": [],
   "source": [
    "# Here's an artificial amino acid sequence to test with:\n",
    "test_peptide = (\"EDEQLPAMFYDHSRMGQDCTIQYRAFFKFKCDEVVICPRMCRFDM\"\n",
    "                \"GYLSCNWPDQWQFWPPNPHTDSTWVSLDYPLRWDCCRKPHTFEPY\"\n",
    "                \"TMHASWCTERDPDIWACIKDSWMSPFEPQGSWGSTELVKEDPGFF\"\n",
    "                \"SVFALRPCVWAAPTT\")\n",
    "\n",
    "test_peptide_properties = compute_amino_acid_properties(test_peptide)\n",
    "\n",
    "print(test_peptide_properties)"
   ]
  },
  {
   "cell_type": "markdown",
   "id": "d54a9a17-96cb-4237-b8b8-d88602a48e56",
   "metadata": {},
   "source": [
    "# Module 3 - Modules and Packages\n",
    "\n",
    "We've now seen that we can write functions to package up repeatable tasks and call them on different inputs. We also saw that there are a number of built-in Python functions.\n",
    "\n",
    "But, what about doing more complicated tasks? Let's say you need to generate random numbers, or compute statistics, or calculate sines and cosines, or work with matrices and generate nice plots? How are you going to do that?\n",
    "\n",
    "In practice, more complicated code will be wrapped up in **functions** that other people have written. The good news is that in Python it's **very easy** to use code from other people. In this module, we'll talk about how Python code is arranged and how you can **import** code and use it as if you had written it yourself. Here's the outline for this module:\n",
    "\n",
    "1. Using Modules\n",
    "    1. What is a Module?\n",
    "    2. Importing a Module\n",
    "    3. Importing Specific Functions\n",
    "2. Package and Environment Management\n",
    "    1. What is a Package?\n",
    "    2. Installing Packages using conda\n",
    "    3. Installing Packages using pip\n",
    "    4. Using Packages and Reading Documentation\n",
    "    5. A Brief Intro to Environments\n",
    "3. Exercise: Using `textwrap` to nicely print DNA sequences."
   ]
  },
  {
   "cell_type": "markdown",
   "id": "fc35d79d-203d-4e88-ab8d-ee52eca83f68",
   "metadata": {},
   "source": [
    "## Using Modules\n",
    "\n",
    "Python code is organised in *modules*. But wait???? What's a module? I'm glad you asked..."
   ]
  },
  {
   "cell_type": "markdown",
   "id": "4d19ddb6-a44f-40d6-8099-23d0c974e481",
   "metadata": {},
   "source": [
    "\n",
    "### What is a Module?\n",
    "\n",
    "Simple answer: a **module** is a file.\n",
    "\n",
    "That's it.\n",
    "\n",
    "Any time you create a new Python file and assign it a name that ends with `.py`, you've created a module. If you share this file with someone else, they can use your code in their own files without having to copy-paste it. We'll see the details in a bit.\n",
    "\n",
    "So, what does this module look like? Usually, it contains a bunch of different code:\n",
    "* **Functions**: bits of repeatable behaviour to simplify tasks.\n",
    "* **Classes**: code that defines new types of objects.\n",
    "* **Constants**: variables that have important pre-determined values, like $\\pi$.\n",
    "\n",
    "All of these are also typically accompanied by **documentation**, which explains how they work, what you can do with them, and how you can use them. This documentation is just a series of docstrings from the module file.\n",
    "\n",
    "This will become clearer in a bit. First, it's important to know that Python comes with **a lot** of built-in modules. You can see a list [here](https://docs.python.org/3/py-modindex.html).\n",
    "\n",
    "We *can* also run Python code to see what modules we have available. **BUT!!! This code may take some time to run, especially if you installed Python using Anaconda! So, think twice before running this line!**"
   ]
  },
  {
   "cell_type": "code",
   "execution_count": null,
   "id": "37481777-70e9-448a-88c8-f9aaf5e9d646",
   "metadata": {},
   "outputs": [],
   "source": [
    "# help(\"modules\")"
   ]
  },
  {
   "cell_type": "markdown",
   "id": "8bd8625a-e6d7-42d3-8fc0-926d55abdf7b",
   "metadata": {},
   "source": [
    "This list doesn't only include built-in modules, but also those that you've installed from other packages. We'll talk about this later."
   ]
  },
  {
   "cell_type": "markdown",
   "id": "a5cfc0a9-3fb0-4f65-8881-10e3639e8804",
   "metadata": {},
   "source": [
    "### Importing a Module\n",
    "\n",
    "To use code from a module, we have to **import** it. Importing the module tells Python that we want to access its contents and use them in our code.\n",
    "\n",
    "To import a module so that we can use it in our code, here's the syntax:\n",
    "```python\n",
    "    import module_name\n",
    "```\n",
    "\n",
    "If you're importing code you've written yourself, then the `module_name` is just the name of your file, without the `.py` extension. Module names follow the same rules as variable names, so if you want to be able to import your code in a different file, you must give it a name that is valid."
   ]
  },
  {
   "cell_type": "markdown",
   "id": "60b4d45a-f9c3-41ab-a47c-005e8fb545e9",
   "metadata": {},
   "source": [
    "Let's do an example. Let's import the `math` module, which provides basic functions for performing more complicated mathematical operations:"
   ]
  },
  {
   "cell_type": "code",
   "execution_count": null,
   "id": "f244372d-9663-4c37-8acc-ba3a794dbb7c",
   "metadata": {},
   "outputs": [],
   "source": [
    "# Your code here to import the math module\n",
    "\n",
    "import math"
   ]
  },
  {
   "cell_type": "markdown",
   "id": "48a806f8-7978-4f76-ba60-3e40536e8a38",
   "metadata": {},
   "source": [
    "Great! We've imported the module! That's our first step done. The next step is to **read how to use the module**. We have two ways to do this:\n",
    "1. Go to the website to read the documentation.\n",
    "2. Use the `help` function in Python.\n",
    "\n",
    "If we use the `help` function, we can read the help right from Python without having to search the internet! The downside is that the `help` function is entirely text-based, so there are no pictures and it's harder to navigate. **Usually, I look at the online help.**"
   ]
  },
  {
   "cell_type": "code",
   "execution_count": null,
   "id": "1c3bdbaf-7c86-49ae-8372-b67bcfd8d0e4",
   "metadata": {
    "scrolled": true
   },
   "outputs": [],
   "source": [
    "help(math)"
   ]
  },
  {
   "cell_type": "markdown",
   "id": "83729cab-8def-4a8c-b99c-0de2ae62e8ab",
   "metadata": {},
   "source": [
    "Now, let's look at the [online documentation](https://docs.python.org/3/library/math.html#module-math).\n",
    "\n",
    "We've seen that there are a lot of functions available to do things like compute square roots and trigonometric results. Let's try to use some of the functions! Let's try to compute the sine and cosine of 180°. We expect to find the following:\n",
    "\n",
    "$$\n",
    "\\begin{align*}\n",
    "    \\sin 180^\\circ &= 0\\\\\n",
    "    \\cos 180^\\circ &= -1\n",
    "\\end{align*}\n",
    "$$\n",
    "\n",
    "Let's try to compute these values in code now:"
   ]
  },
  {
   "cell_type": "code",
   "execution_count": null,
   "id": "0bdb929b-7cbb-4a9e-bd49-6b64645a9614",
   "metadata": {},
   "outputs": [],
   "source": [
    "# Your code here... Compute sines and cosines using `math`\n"
   ]
  },
  {
   "cell_type": "markdown",
   "id": "07a921a7-5824-4945-a075-cefa152f9db3",
   "metadata": {},
   "source": [
    "Wait! Hang on! That's not right! What's going on??? Well, the answer is in the documentation. We can call the `help` function on specific functions!"
   ]
  },
  {
   "cell_type": "code",
   "execution_count": null,
   "id": "d753f3c5-54c9-42b1-9a58-27629a0352a1",
   "metadata": {},
   "outputs": [],
   "source": [
    "# Your code here to get help on math.cos\n"
   ]
  },
  {
   "cell_type": "markdown",
   "id": "8b63c471-d2e2-48e4-93f5-128c554e022b",
   "metadata": {},
   "source": [
    "Aha! The angle has to be in radians! So, we need to convert the angle to radians first! We can do this manually by doing $\\textup{radians} = \\pi/180 \\times \\textup{degrees}$ or... we can use **another function** from `math`!"
   ]
  },
  {
   "cell_type": "code",
   "execution_count": null,
   "id": "072445d0-2a47-4aad-9b6e-7360600b1012",
   "metadata": {},
   "outputs": [],
   "source": [
    "# Your code here\n"
   ]
  },
  {
   "cell_type": "markdown",
   "id": "00efe3e7-5d0b-4d27-8d4d-0d7b9d1b9b16",
   "metadata": {},
   "source": [
    "In the first solution, we see an example of using a **constant** (well, actually a variable) from a module.\n",
    "\n",
    "*Note:* You may be thinking... Hang on! The value of `sin(180°)` didn't come out to zero. Well, it's something very small due to problems representing decimal numbers on a computer. So, for our intents and purposes, we can say $1\\times 10^{-16} \\approx 0$."
   ]
  },
  {
   "cell_type": "markdown",
   "id": "f7e74078-4096-444a-abba-c2457d27d110",
   "metadata": {},
   "source": [
    "You may be thinking in that last example that we've had to write `math` a lot! We had to write `math.sin` and `math.cos` and `math.radians`. Can't there be an easier way??? Turns out, there is!"
   ]
  },
  {
   "cell_type": "markdown",
   "id": "beb21a0e-f529-4e95-8f8e-b007c38002be",
   "metadata": {},
   "source": [
    "### Importing Specific Functions\n",
    "\n",
    "Sometimes, we don't want to import an entire module. We may want to just import a specific function. For this, the syntax is:\n",
    "```python\n",
    "    from module_name import function_name\n",
    "```\n",
    "\n",
    "Then, when we call the function, we **don't** need to write the module name. We only need to write the function name. We can also import **constants** in this way.\n",
    "\n",
    "We aren't restricted to importing only one function or constant. We can import a bunch:\n",
    "```python\n",
    "    from module_name import function1, function2, constant\n",
    "```\n",
    "\n",
    "Let's apply this example to our previous sine and cosine example:"
   ]
  },
  {
   "cell_type": "code",
   "execution_count": null,
   "id": "263a3cee-c037-4598-82b9-8755180a933b",
   "metadata": {},
   "outputs": [],
   "source": [
    "# Your code here to import the specific functions for our sine and cosine example\n"
   ]
  },
  {
   "cell_type": "markdown",
   "id": "0faa0b01-518d-4ad9-816e-c96976e739ef",
   "metadata": {},
   "source": [
    "Notice that we were able to call the `sin` and `cos` functions directly and use `pi` as if it were a variable that we had defined."
   ]
  },
  {
   "cell_type": "markdown",
   "id": "d3faa5a3-cc39-45ea-8cad-efbefcd2c238",
   "metadata": {},
   "source": [
    "So, you may be wondering what's the best approach to use. Well, it's really a **case-by-case** decision:\n",
    "* Does the module have a long name? If so, you may want to just import the functions you'll use.\n",
    "* Will you forget where the function came from? If so, leave it as a module import so that you remember where the function came from and you don't try to find where you've defined it.\n",
    "* How much of the module are you using? If you have to import 20 different functions specificially, don't waste the room with the import statement."
   ]
  },
  {
   "cell_type": "markdown",
   "id": "cf1f1d50-6fcc-444f-aae6-073af4c9aefd",
   "metadata": {},
   "source": [
    "## Package and Environment Management\n",
    "\n",
    "All this has been good, but we've only been looking at code that comes *with* Python. When doing scientific computing, we often need to use a lot of code that doesn't come included.\n",
    "\n",
    "We need to go beyond what Python gives us and explore the big world of **packages**."
   ]
  },
  {
   "cell_type": "markdown",
   "id": "f0a50248-8e53-48be-9bba-4bae76909bd6",
   "metadata": {
    "jp-MarkdownHeadingCollapsed": true
   },
   "source": [
    "### What is a Package?\n",
    "\n",
    "A **package** is a collection of modules that usually interact and have been grouped together to be easily **distributed** to other people. Packages usually have a very specific focus. \n",
    "\n",
    "Here are some very common packages that you will almost definitely encounter in your career:\n",
    "\n",
    "* **NumPy**: Offers mathematical tools for processing large numeric arrays in many dimensions.\n",
    "* **SciPy**: Offers scientific tools for signal processing, interpolation, high-dimensional image processing and much, much more.\n",
    "* **Pandas**: Offers data processing tools for working with tables.\n",
    "* **Matplotlib**: Offers tools for generating many different types of plots in 2D and 3D.\n",
    "* **scikit-image**: Offers tools for image processing.\n",
    "* **scikit-learn**: Offers statistics and machine learning tools.\n",
    "* **TensorFlow** and **PyTorch**: Offer deep learning and AI tools.\n",
    "\n",
    "And there are **many** more out there that you'll likely use at some point.\n",
    "\n",
    "If you installed Anaconda, then great! You have most of the packages you'll ever need (and a bunch you'll never need) installed automatically. If you didn't install Anaconda, no problem! It's really easy to install packages. There are two main tools that you'll use:\n",
    "* `conda` -- available if you've installed Anaconda or miniconda.\n",
    "* `pip` -- always available, regardless of how you installed Python.\n",
    "\n",
    "Let's see how to use each of them!"
   ]
  },
  {
   "cell_type": "markdown",
   "id": "ba6ebee1-8610-4c72-bdcd-59422f190c82",
   "metadata": {},
   "source": [
    "### Installing Packages using `conda`\n",
    "\n",
    "The packages available to install in `conda` come from various channels available via the **Anaconda** repository: https://anaconda.org/. We can search online to find a package that we want to install. For example, if you want to install matplotlib, you can search for **matplotlib** on the Anaconda repository. Then, you can easily install it using the **command line terminal** (not a Python console).\n",
    "\n",
    "#### Installing Packages on the Command Line\n",
    "\n",
    "To install using the **command line**, open up the **Terminal** on macOS or Linux, or the **Anaconda Prompt** on Windows. It's very important to **not** use a Python shell for this. Again, we do this in a terminal, **NOT IN A PYTHON SHELL**.\n",
    "\n",
    "If everything is set up properly, you should see `(base)` before the prompt. This indicates that you are in the base `conda` environment.\n",
    "\n",
    "In general, to install a package with `conda`, at the **command prompt** you would write:\n",
    "```bash\n",
    "$ conda install package_name\n",
    "```\n",
    "\n",
    "Press enter, wait for it to prompt you, type `y` and hit enter again to install! If you don't want to be prompted, then you can just add `-y` to the command so that it automatically answers \"yes\" to the prompt for installation.\n",
    "\n",
    "Sometimes, the package that you want isn't available in the main channel, or only an older version is available. If the package you want isn't available in the main `anaconda` channel, you can specify the `conda-forge` channel instead using the `-c` option (see [here](https://docs.conda.io/projects/conda/en/latest/commands/install.html) for more details).\n",
    "\n",
    "```bash\n",
    "$ conda install -c conda-forge package_name\n",
    "```\n",
    "\n",
    "You can also add additional channels, such as [**bioconda**](https://bioconda.github.io/).\n",
    "\n",
    "Let's do an example. Let's try to install `numpy`, `scipy` and `matplotlib` from the `conda-forge` channel. Remember, we need to use a **terminal**. Thankfully, we can open terminals in Jupyter Lab.\n",
    "\n",
    "**Tip:** We can install multiple packages at the same time by including all their names.\n",
    "\n",
    "We can do other package management operations in `conda`. These are described in the `conda` [documentation](https://docs.conda.io/projects/conda/en/stable/commands/index.html). The main ones are:\n",
    "* `conda remove` - uninstall a package.\n",
    "* `conda update` - update a package.\n",
    "\n",
    "There are also various options for each command."
   ]
  },
  {
   "cell_type": "markdown",
   "id": "279fc600-9459-4d6c-8b14-1786062810b0",
   "metadata": {},
   "source": [
    "### Installing Packages using `pip`\n",
    "\n",
    "What if you don't have Anaconda or Miniconda? Don't worry! Every installation of Python comes with `pip`, official tool for installing packages. `pip` lets you download packages from the official Python Packaging Index (PyPI), found at https://pypi.org/.\n",
    "\n",
    "To install a package, first you can search for it on PyPI. For example, if we want to install Open3D, which is a package for working with 3D point clouds and models, we can search on PyPI. When you click on the result, it even gives you the code to be able to install the package!\n",
    "\n",
    "\n",
    "To install packages using `pip`, again you must open the command line. At the prompt, you write:\n",
    "```bash\n",
    "    $ pip install package_name\n",
    "```\n",
    "\n",
    "When it's done installing, you can use the package!\n",
    "\n",
    "Similar to `conda`, `pip` has a variety of other operations it can perform, which are all described in its [online documentation](https://pip.pypa.io/en/stable/cli/). The most important one for now is `pip uninstall package_name` which removes an installed package.\n",
    "\n",
    "**Note:** `pip` should come with just about any installation of Python. If you didn't install Anaconda, things may get a bit messy. There are two major versions of Python in use: 2.7 and 3.*. On some operating systems, typing in `python` or `pip` on the command line use Python 2, while you must use `python3` or `pip3` to use the more updated and supported version of Python. When you install Anaconda or Miniconda, you no longer need to deal with this issue. This issues is becoming less common, as Python 2.7 has been deprecated."
   ]
  },
  {
   "cell_type": "markdown",
   "id": "026287a0-472c-4f54-8500-d63ff7f809bc",
   "metadata": {},
   "source": [
    "### Jupyter Notebook Trick - Magic Commands\n",
    "\n",
    "If you're using Jupyter notebooks, there are built-in [magic commands](https://ipython.readthedocs.io/en/stable/interactive/magics.html) that let you install packages within Python code cells. (These are also discussed [here](https://discourse.jupyter.org/t/why-users-can-install-modules-from-pip-but-not-from-conda/10722/4?u=fomightez) and [here](https://discourse.jupyter.org/t/python-in-terminal-finds-module-jupyter-notebook-does-not/2262/9) and mentioned briefly in a comment [here](https://stackoverflow.com/questions/38694081/executing-terminal-commands-in-jupyter-notebook).)\n",
    "\n",
    "To install a package using `pip` or `conda`, you write the same line you would at the terminal, but put the `%` sign at the beginning.\n",
    "\n",
    "For example, to install NumPy in the environment associated with the Jupyter notebook using `conda`, write:\n",
    "\n",
    "```python\n",
    "%conda install numpy\n",
    "```\n",
    "\n",
    "To install Matplotlib using `pip`, write:\n",
    "\n",
    "```python\n",
    "%pip install matplotlib\n",
    "```\n",
    "\n",
    "There are other magic commands that can be used only in **Jupyter notebooks** and in the **IPython shell**. You can read more about them [here](https://ipython.readthedocs.io/en/stable/interactive/magics.html)."
   ]
  },
  {
   "cell_type": "markdown",
   "id": "2e416f96-a6c0-4c1b-95d6-a5d941b7f39e",
   "metadata": {
    "jp-MarkdownHeadingCollapsed": true
   },
   "source": [
    "### Other Installation Tips\n",
    "\n",
    "Most packages give you information in the **documentation** about how to install them. In practice, you rarely have to search Anaconda or PyPI. Usually, you just need to search for the package, and it will explain how to set it up.\n",
    "\n",
    "For example, NumPy provides the following [page](https://numpy.org/install/).\n",
    "\n",
    "Matplotlib provides [this page](https://matplotlib.org/stable/users/getting_started/index.html#installation-quick-start). \n",
    "\n",
    "For anyone interested in user interface development, PyQt provides [this page](https://www.riverbankcomputing.com/software/pyqt/download).\n",
    "\n",
    "**Usually**, the installation instructions are simple, telling you to `pip install` the package. There are a few cases, though, where things are more complicated.\n",
    "\n",
    "An example is [CuPy](https://cupy.dev/), which allows performing NumPy and SciPy operations on the GPU. This package **does not** work on all systems. It requires an NVIDIA GPU and CUDA, which is not available on macOS. In these cases, it's very important to read the [installation instructions](https://docs.cupy.dev/en/stable/install.html).\n",
    "\n",
    "If you have both `conda` and `pip` installed, the `conda` [documentation](https://conda.io/projects/conda/en/latest/user-guide/tasks/manage-environments.html) recommends trying to install packages with `conda` first. You can easily search on https://anaconda.org to see if the package is available. Installing packages with `conda` makes it easier to manage multiple *environments* (which we'll discuss soon)."
   ]
  },
  {
   "attachments": {},
   "cell_type": "markdown",
   "id": "e0efca73-83b9-448c-8f8d-4d05e2501887",
   "metadata": {},
   "source": [
    "### Using Packages and Reading Documentation\n",
    "\n",
    "We've seen what packages are and how to install them, but now how do we use them?\n",
    "\n",
    "#### Importing Packages\n",
    "\n",
    "To use a package, we have to import it, just like we import a module. Often, since we use a lot of functions from a package, we typically want to give the package a shorter name when we import it. Here's the syntax for doing this:\n",
    "```python\n",
    "    import package_name as short_name\n",
    "```\n",
    "\n",
    "You'll see this commonly for the NumPy package:"
   ]
  },
  {
   "cell_type": "code",
   "execution_count": null,
   "id": "33fa03bc-e88e-4685-b217-504023d6d3b0",
   "metadata": {},
   "outputs": [],
   "source": [
    "# Your code here to import numpy\n"
   ]
  },
  {
   "cell_type": "markdown",
   "id": "201fd3a2-5b59-43a5-aac4-dce0e344894b",
   "metadata": {},
   "source": [
    "Now that we have done this, we don't write `numpy` before all functions. Instead, we write `np`:"
   ]
  },
  {
   "cell_type": "code",
   "execution_count": null,
   "id": "14f8a244-2159-4e3f-bbae-76b640a486a1",
   "metadata": {},
   "outputs": [],
   "source": [
    "# Your code here to generate a simple array\n"
   ]
  },
  {
   "cell_type": "markdown",
   "id": "c1eec411-34e0-48ae-aa1f-7003a6653c13",
   "metadata": {},
   "source": [
    "For more details on [NumPy](https://numpy.org/), check out its [website](https://numpy.org/) and [documentation](https://numpy.org/doc/stable/)."
   ]
  },
  {
   "cell_type": "markdown",
   "id": "c1477697-72d4-48b8-8ed8-291e19852789",
   "metadata": {},
   "source": [
    "Packages can be very big! So, instead of dumping all their code in one module, developers often create additional modules and subpackages. Let's look at [SciPy](https://docs.scipy.org/doc/scipy/reference/index.html#scipy-api) as an example.\n",
    "\n",
    "To import subpackages, we use the **dot notation**. For example, let's import the `interpolate` subpackage from SciPy."
   ]
  },
  {
   "cell_type": "code",
   "execution_count": null,
   "id": "10657d31-334e-422e-bde2-3514a62c9b83",
   "metadata": {},
   "outputs": [],
   "source": [
    "# Your code here to import interpolate from scipy\n"
   ]
  },
  {
   "cell_type": "markdown",
   "id": "9a060c34-6d8d-46f9-9da1-dec39e3ad8fc",
   "metadata": {},
   "source": [
    "We can also rename an imported subpackage. An extremely common example of this is the `matplotlib` plotting package. We commonly use the `pyplot` sub-package. It would be **really, really** long to keep writing `matplotlib.pyplot` everywhere. Instead, when we import it, we commonly see this line:"
   ]
  },
  {
   "cell_type": "code",
   "execution_count": null,
   "id": "f2cf241a-c52d-4ca0-919f-dbf8882275e3",
   "metadata": {},
   "outputs": [],
   "source": [
    "# Your code here for importing matplotlib\n"
   ]
  },
  {
   "cell_type": "markdown",
   "id": "8f2ba17f-343a-4551-acc1-2d0d6e6adf95",
   "metadata": {},
   "source": [
    "Here, we've given the subpackage a much shorter name.\n",
    "\n",
    "**Note:** This renaming works for all imports, not just from packages and subpackages. You can even rename functions that you import (although this can become confusing)."
   ]
  },
  {
   "cell_type": "markdown",
   "id": "ff4ad04b-d4fe-4bf6-af31-c5b27f179b7c",
   "metadata": {},
   "source": [
    "#### Reading Documentations\n",
    "\n",
    "So, how do we learn all the awesome things we can do with a package? The answer is **DOCUMENTATION**. Many of these big packages are **extremely well-maintained**. So, they have teams of people who dedicate tons of time to writing documentation to help **you**. All these packages have many different types of information available online:\n",
    "\n",
    "* API references: provide the detailed information, or *docstrings*, about each function, class, method and constant in the package. Example: [NumPy](https://numpy.org/doc/stable/reference/index.html).\n",
    "* User guides: introductory material and tutorials telling you how to accomplish common tasks and how to follow common conventions for the package. Example: [SciPy](https://docs.scipy.org/doc/scipy/tutorial/index.html).\n",
    "* Examples: worked out, sometimes step-by-step, examples of how to use the package, with the code available. Example: [matplotlib](https://matplotlib.org/stable/gallery/index).\n",
    "\n",
    "All of these resources are here for **you**, so make sure that you use them! When in doubt, **consult the documentation!**\n",
    "\n",
    "When starting with a new package, I recommend looking for two things:\n",
    "1. a **getting started** guide,\n",
    "2. **examples**.\n",
    "\n",
    "The guide will help you learn important conventions quickly, while examples will show you the breadth of what the package can do. There are usually **tons** of functions and classes in a package, so it's good to see if any of the examples are similar to what you are looking to do."
   ]
  },
  {
   "cell_type": "markdown",
   "id": "457c1a19-73a8-410c-9d56-063e3d59c195",
   "metadata": {},
   "source": [
    "### A Brief Introduction to Environments\n",
    "\n",
    "I've tossed the word **environment** out a couple of times. But, what is an environment?\n",
    "\n",
    "In Python programming, an **environment** contains your **Python interpreter** and all the **associated packages**.\n",
    "\n",
    "#### Why Use Environments?\n",
    "\n",
    "If you start working on complicated projects, you'll notice a few things:\n",
    "\n",
    "* Things sometimes break over time. New versions of packages add new features, but sometimes remove or change other features. Sometimes, your task may require a specific version of a package. For example, your task may require `numpy` version `1.26` and not `2.0`.\n",
    "* The above, but for your dependencies. Sometimes, a package that you use depends on a specific version of another package.\n",
    "* Some projects you're working on may require some versions of a package, while others require a different version.\n",
    "* If you're sharing your code with a colleague, they'll need to install specific packages to run your code. It's easier to give them as short a list of dependencies as possible, and you need to communicate the correct package versions to them.\n",
    "* New versions of Python itself add new features and introduce new syntax. It's important to let people know exactly what version of Python you're working with so that your code will run properly.\n",
    "\n",
    "![Sample environments for different projects.](../assets/environment/Environments.png)\n",
    "\n",
    "Image made with PowerPoint.\n",
    "\n",
    "Python environments help you to simplify these tasks by allowing you to:\n",
    "\n",
    "* Keep different versions of the same package isolated.\n",
    "* Have multiple versions of Python installed.\n",
    "* Export your installed packages and dependencies to a file.\n",
    "\n",
    "\n",
    "There are **many** different ways to create new Python environments. We'll discuss two:\n",
    "\n",
    "* `conda` environments\n",
    "* `virtualenv` environments"
   ]
  },
  {
   "cell_type": "markdown",
   "id": "fa2d3d84-e1e4-4284-91b0-b24389b4383a",
   "metadata": {},
   "source": [
    "#### Managing Environments with `conda`\n",
    "\n",
    "Using `conda`, it's easy to set up environments.\n",
    "\n",
    "By default, when you install Anaconda or Miniconda, you are provided with the `base` environment. To create a new environment, open up the **terminal** (or the **Anaconda Prompt** on Windows) and type:\n",
    "\n",
    "```bash\n",
    "conda create -n environment_name\n",
    "```\n",
    "\n",
    "You can optionally specify packages to install immediately when creating the environment. For example, you can create a new environment called `py39` with Python 3.9 and NumPy 1.26 installed from `conda-forge` by writing:\n",
    "\n",
    "```bash\n",
    "conda create -n py39 -c conda-forge python=3.9 numpy=1.26\n",
    "```\n",
    "\n",
    "After creating your new environment, you have to **activate** it. This is easy! You just need to type\n",
    "\n",
    "```bash\n",
    "conda activate environment_name\n",
    "```\n",
    "\n",
    "In our example, you would write\n",
    "\n",
    "```bash\n",
    "conda activate py39\n",
    "```\n",
    "\n",
    "Now, you'll see that the environment name beside your command prompt changes. To deactivate the environment and return to the base, you would write\n",
    "\n",
    "```bash\n",
    "conda deactivate\n",
    "```\n",
    "\n",
    "**Note:** If you deactivate the base, you've completely closed Anaconda and you can't use `conda` until you restart it.\n",
    "\n",
    "One of the advantages of Conda environments is that they are very easy to export as a file listing all your installed packages. You do this using the `conda env export` subcommand:\n",
    "\n",
    "```bash\n",
    "conda env export -f my_env.yml\n",
    "```\n",
    "\n",
    "Now you have a file that can tell `conda` exactly how to recreate your Python environment.\n",
    "\n",
    "To create a new environment based on this file, you can simply run this code:\n",
    "\n",
    "```bash\n",
    "conda env create -f my_env.yml -n new_env\n",
    "```\n",
    "\n",
    "Now, you'll have a new environment called `new_env` that has the **same packages** that are listed in `my_env.yml`.\n",
    "\n",
    "To activate this new environment, you would type:\n",
    "```bash\n",
    "conda activate new_env\n",
    "```\n",
    "\n",
    "For more details on managing Conda environments, check out the `conda` documentation [here](https://conda.io/projects/conda/en/latest/user-guide/tasks/manage-environments.html). There are also detailed help pages about all of the `conda` commands and subcommands."
   ]
  },
  {
   "cell_type": "markdown",
   "id": "5379a43a-55e5-4021-afe2-a02956254939",
   "metadata": {},
   "source": [
    "#### Creating Virtual Environments `virtualenv` and `pip`\n",
    "\n",
    "You can also create environments using `virtualenv` and `pip`. These environments are known as **virtual environments**.\n",
    "\n",
    "First, we need to install `virtualenv`. If you've installed Anaconda or Miniconda, you can install `virtualenv` using `conda`:\n",
    "\n",
    "```bash\n",
    "conda install virtualenv\n",
    "```\n",
    "\n",
    "Otherwise, you can install `virtualenv` using `pip`:\n",
    "\n",
    "```bash\n",
    "pip install virtualenv\n",
    "```\n",
    "\n",
    "Unlike working with Conda environments, when creating environments with `virtualenv`, you **must** specify where you want the environment files to be stored. To create an environment in the subdirectory `env` of the current folder, run the following:\n",
    "\n",
    "```bash\n",
    "virtualenv env\n",
    "```\n",
    "\n",
    "This will create the environment and will give you a message saying it has been created. Like with Conda environments, you must activate this virtual environment before using it. The activate is **different** on Windows from macOS and Linux.\n",
    "\n",
    "On macOS and Linux, you must type:\n",
    "\n",
    "```bash\n",
    "source env/bin/activate\n",
    "```\n",
    "\n",
    "On Windows, you must type:\n",
    "\n",
    "```powershell\n",
    ".\\env\\Scripts\\activate\n",
    "```\n",
    "\n",
    "In both cases, after you activate your environment, you should see the name of the environment before the command prompt. To deactivate the environment, simply type:\n",
    "```bash\n",
    "deactivate\n",
    "```\n",
    "\n",
    "With the environment active, you can install packages using `pip`. These packages will only be installed in the **active** environment. **DON'T INSTALL PACKAGES USING `conda` WHEN WORKING IN A VIRTUAL ENVIRONMENT!**\n",
    "\n",
    "**Note:** If you had to use `pip3` before, you won't have to in a virtual environment.\n",
    "\n",
    "Similar to how we exported a Conda environment, we can export a list of package versions with `pip`. The package information is stored in a **requirements** file, commonly called `requirements.txt`. To create this file, at the command line, you use `pip freeze`:\n",
    "\n",
    "```bash\n",
    "pip freeze > requirements.txt\n",
    "```\n",
    "\n",
    "This will create a file containing the names of all your installed packages and the exact version.\n",
    "\n",
    "After creating another environment, you can easily install all these packages using `pip` by writing:\n",
    "\n",
    "```bash\n",
    "pip install -r requirements.txt\n",
    "```\n",
    "\n",
    "For more information about creating virtual environments using `virtualenv`, make sure to check out the [documentation](https://virtualenv.pypa.io/en/stable/).\n",
    "\n",
    "#### Closing Environment Remarks\n",
    "\n",
    "There are several differences between Conda environments and virtual environments that are beyond the scope of this workshop. There are also several other tools for managing environments and dependencies. These include **Poetry** (https://python-poetry.org/) and **Pixi** (https://pixi.sh/latest/). I **strongly** recommend that you check these out if you are interested in developing and distributing Python packages for other people to use.\n",
    "\n",
    "And lastly, **please, please, please** don't mix `conda` and `pip` unless you **absolutely have to**. If you are working with a Conda environment and the package documentation doesn't indicate a way to install it using `conda`, check the [online list](https://conda-forge.org/packages/) at `conda-forge` to see if someone has uploaded a version to `conda-forge`."
   ]
  },
  {
   "attachments": {},
   "cell_type": "markdown",
   "id": "b52815c4-1560-47b8-ad52-50dcf9804bf1",
   "metadata": {},
   "source": [
    "## Exercise: Working with Modules\n",
    "\n",
    "We've seen how to work with modules and packages. Now, let's do a more biological exercise  that involves working with modules.\n",
    "\n",
    "DNA sequences can be very long. After all, we have billions of nucleotides of DNA in each cell.\n",
    "\n",
    "Sequences that are are very long don't look nice on the screen. To make our sequences easier to read (and to make them easier to ultimately export to FASTA files), we want to wrap the sequences and break them into several smaller lines of 80 nucleotides.\n",
    "\n",
    "We could do this manually... but, as it turns out, Python includes a [`textwrap` module](https://docs.python.org/3/library/textwrap.html#module-textwrap) that can help! Read the module documentation and write code to break a DNA sequence into smaller chunks. I've given you a DNA sequence to test this code on.\n",
    "\n",
    "After breaking the DNA sequence up, print each line so that we get a nice wrapped sequence."
   ]
  },
  {
   "cell_type": "code",
   "execution_count": null,
   "id": "343f8795-446a-4f66-9992-be9f646f9513",
   "metadata": {},
   "outputs": [],
   "source": [
    "my_long_dna = \"AGGACAGTTGTACGATGCATCGTGCTACGATCGATGCTAGCGACGTACGTAGCATGCTAGCTAGCTGACGAGCGCGCGCGATCAGCATGCGCCGGACGTCAGTCAGTGTCAGTCATGCAGTACTGCAGTGTACGTCAGTACGTACTGCAGTCGTCATGTCGATGCATGCCATGTGACGTATGACTGCATGACGTACTG\"\n",
    "# Your code here to run the wrapping example\n"
   ]
  },
  {
   "cell_type": "markdown",
   "id": "05888694-6876-46af-87d7-0a74622d586b",
   "metadata": {},
   "source": [
    "Ok, now that we can do this, let's add a twist. Python also includes a [`random` module](https://docs.python.org/3/library/random.html). Write a function that uses `random` to generate a long random sequence of nucleotides with different weights for each nucleotide.\n",
    "\n",
    "Your function should have the following signature:\n",
    "\n",
    "```python\n",
    "generate_random_dna(length, weight_a, weight_t, weight_c, weight_g)\n",
    "```\n",
    "and return a string. If you have time, add a docstring to describe your function.\n",
    "\n",
    "**Hint:** To convert a list of strings into a single string, you can use the following code:\n",
    "\n",
    "```python\n",
    "my_string = \"\".join(my_list)\n",
    "```\n",
    "where `\"\"` is the empty string and `my_list` is your list of strings.\n",
    "\n",
    "Generate some random DNA sequences and then use your code from above to wrap them to 80 characters."
   ]
  },
  {
   "cell_type": "code",
   "execution_count": null,
   "id": "0a89f5ae-4932-4095-b3be-95d5233368fe",
   "metadata": {},
   "outputs": [],
   "source": [
    "# Your code here to generate random DNA sequences\n"
   ]
  },
  {
   "cell_type": "markdown",
   "id": "58a0f8fd-a9ac-4ed9-a745-83ddd28176fa",
   "metadata": {},
   "source": [
    "## Module Summary\n",
    "\n",
    "Congratulations! Another module done! Here are the main points we saw in this module on modules:\n",
    "* Python code is organised into **modules** that we can easily **import** into our own code to use.\n",
    "* We can import **an entire module** or we can import **specific functions and constants** to accomplish certain tasks.\n",
    "* Python comes with **many pre-installed modules** for performing common tasks, like mathematical operations and generating random numbers.\n",
    "* Not all modules we need come installed with Python. We can install **packages** using `conda` or `pip` to get even more functionality.\n",
    "* We can easily **import** packages into our code to use their added functionality.\n",
    "* Many of these packages have **lots of documentation** that provides **reference, tutorials and examples** on how to use these packages.\n",
    "* We can set up **environments** to keep projects separate and install **different versions** of packages and of the Python interpreter.\n",
    "\n",
    "Now you can both write your own code and use code from existing modules and packages!"
   ]
  },
  {
   "cell_type": "markdown",
   "id": "8d25622d-0515-4199-8ec5-3b8f818aa281",
   "metadata": {},
   "source": [
    "# Module 4 - Where to Go From Here\n",
    "\n",
    "Congratulations! You've now reached the end of this **Intermediate Python** workshop. In this workshop, we've seen the following big ideas:\n",
    "\n",
    "* How to wrap repeated tasks into **functions** to allow easier reuse.\n",
    "* How to import **modules** to use code written by other people.\n",
    "* How to install **packages** to gain even more functionality.\n",
    "\n",
    "By now, you've seen a fair amount of Python, and you're well on your way to writing successful code."
   ]
  },
  {
   "cell_type": "markdown",
   "id": "3a15f423-b855-4d80-86dc-693326d0b10e",
   "metadata": {},
   "source": [
    "## What to Learn Next... and How?\n",
    "\n",
    "We've seen a lot. But, the learning is never done! There are many more topics that you can explore, both in terms of Python syntax skills and external packages. With the tools that you've now learned, it should be fairly easy for you to learn them. Here are some topics that are definitely worth looking into:\n",
    "\n",
    "### Using NumPy for Array Operations\n",
    "\n",
    "While we can use basic lists for storing multiple values, things get quite complicated if you want to represent higher dimensional data and perform operations on large sets of data. Good news! The [NumPy](https://numpy.org) package offers a new type of object: the `ndarray`, the `N`-dimensional array. Using these arrays, you can easily store and process lots of numbers easily. And NumPy also contains the mathematical operations you need for processing. NumPy is **extremely commonly used**, so if you're doing something that involves lots of data, chances are that you'll be using NumPy in some form. Make sure to check out the [online documentation](https://numpy.org/doc/stable/) for help getting started.\n",
    "\n",
    "### Generating Plots\n",
    "\n",
    "If you have lots of data, you'll certainly want to use plots to help with visualisations. There are several commonly-used plotting packages in Python. Make sure to checkout [Matplotlib](https://matplotlib.org/). The documentation for this package contains **tons of examples** showing just what you can do in terms of plotting. [Seaborn](https://seaborn.pydata.org/) is another package that builds on Matplotlib. If you're familiar with R, then [Plotly](https://plotly.com/python/) can also be used in Python. If you're doing visualisation in 3D, there are also packages for that!\n",
    "\n",
    "### Using SciPy for Scientific Computing and Pandas for Data Processing\n",
    "\n",
    "[SciPy](https://scipy.org/) and [Pandas](https://pandas.pydata.org/) are the next logical steps after NumPy. SciPy provides some more advanced scientific operations, like signal processing, spatial operations and mathematical optimisation. The docs are structured quite similarly to NumPy, and NumPy arrays are at the basis of just about all of SciPy, so it shouldn't be too hard to jump right in. Meanwhile, Pandas provides more advanced data manipulation for spreadsheet-like objects. This is quite helpful if your data are mostly 2D and you have more than just numeric data. Check out these packages' websites for tips to get started.\n",
    "\n",
    "### Image Processing with Scikit-Image\n",
    "\n",
    "Much life science work relies on processing images. [Scikit-image](https://scikit-image.org/) provides many functions for processing images and getting insight.\n",
    "\n",
    "### Basic Machine Learning with Scikit-Learn\n",
    "\n",
    "Want to get started with advanced statistics and machine learning in Python? Check out [Scikit-learn](https://scikit-learn.org/stable/). This package provides tools for clustering, dimensionality reduction and much more!\n",
    "\n",
    "### Object-Oriented Programming\n",
    "\n",
    "We've talked about how everything in Python is an **object**. You can create new types of objects using **classes**. A **class** is a **template** for creating new objects. Basic object-oriented programming should be covered in most introductory books on Python, as well as in online tutorials. You can also check out the official Python documentation for some [info](https://docs.python.org/3/tutorial/classes.html) on defining classes."
   ]
  },
  {
   "cell_type": "markdown",
   "id": "055d38f5-ab05-4b13-971a-d4a8a5eb33d6",
   "metadata": {},
   "source": [
    "## How to get help... and how not to get help\n",
    "\n",
    "In the software development process, you'll inevitably run into bugs.\n",
    "\n",
    "In fact, if your code always runs perfectly the first time, then something may be wrong.\n",
    "\n",
    "There will be (many) times when your code won't work.\n",
    "\n",
    "It happens to everyone.\n",
    "\n",
    "All the time.\n",
    "\n",
    "Not just you.\n",
    "\n",
    "And not just your friend.\n",
    "\n",
    "Really, everyone!\n",
    "\n",
    "So, how can you get help when you need it? Here are some important resources that may (or may not) be of use (adapted from my previous iteration of the **Intermediate Python** workshop found [here](https://github.com/bzrudski/micm_intermediate_python_summer_2024)):\n",
    "\n",
    "### Your Code Editor\n",
    "\n",
    "Think about it... when you're writing code, you're using a piece of software that is designed **specifically for one purpose**: to help you code.\n",
    "\n",
    "Yes! That's right!\n",
    "\n",
    "Your IDE isn't just a text editor; it can suggest code completions, tell when there are errors, help you keep track of variables, find variable definitions and even help you reformat your files and restructure your code.\n",
    "\n",
    "So, please, please, please, **DO NOT** write your code in a simple text editor that has no additional features. There are **many** IDEs out there that have Python support, including:\n",
    "\n",
    "* [PyCharm](https://www.jetbrains.com/pycharm/)\n",
    "* [Microsoft Visual Studio Code](https://code.visualstudio.com/)\n",
    "* [Spyder](https://www.spyder-ide.org/)\n",
    "* [Zed](https://zed.dev/)\n",
    "\n",
    "And these are all either completely free or have a free version with most of the functionality. And ***PLEASE*** don't use word processing software to write code. Use software that is made for coding!\n",
    "\n",
    "### Documentation\n",
    "\n",
    "Big projects have big, well-maintained documentation. Take a look at their guides for getting started. For example, [Pandas](https://pandas.pydata.org/) has a [10 minutes to pandas](https://pandas.pydata.org/docs/user_guide/10min.html) tutorial. Use these resources! If you want to learn how to use a function, **look it up** and read the paragraph about it. The docs will tell you how to use the arguments, as well as any quirks to expect. In some cases, the authors have even included references to the papers behind the function. This is especially true in image processing and other fields that rely heavily on algorithms. So, the documentation will tell you not only how to use the code, but also **where it comes from**. And make sure to check out the **Official Python docs** at https://docs.python.org/3/.\n",
    "\n",
    "### Books\n",
    "\n",
    "Books, books, books!\n",
    "\n",
    "There are tons!\n",
    "\n",
    "And tons!\n",
    "\n",
    "AND TONS of books out there!\n",
    "\n",
    "\n",
    "For example, there are a couple of general books that are free online:\n",
    "* *Think Python 2e* by Allen B. Downey (FREE book): https://greenteapress.com/wp/think-python-2e/\n",
    "* *Data Structures and Information Retrieval in Python* also by Allen B. Downey (FREE book): https://greenteapress.com/wp/data-structures-and-information-retrieval-in-python/\n",
    "* *Introduction to Python Programming* by Udayan Das et al., published by OpenStax: https://openstax.org/details/books/introduction-python-programming\n",
    "* *The Hitchhiker's Guide to Python* by Kenneth Reitz and Tanya Schlusser: https://docs.python-guide.org/\n",
    "\n",
    "There are also books online about more specialised topics, such as:\n",
    "\n",
    "* Package development: *Python Packages* by Tomas Beuzen and Tiffany Timbers -- https://py-pkgs.org/\n",
    "* Data science:\n",
    "    * *Python for Data Analysis, 3E* by Wes McKinney -- https://wesmckinney.com/book/\n",
    "    * *Python Data Science Handbook* by Jake VanderPlas -- https://jakevdp.github.io/PythonDataScienceHandbook/\n",
    "\n",
    "Another book that covers software development for research more generally, including more emphasis on the tools used is:\n",
    "\n",
    "* *Research Software Engineering with Python* by Damien Irving, et al.: https://third-bit.com/py-rse/index.html\n",
    "\n",
    "Through the databases at the McGill Library, we also have access to lots of books **for free**. Check out the library's online catalogue to see more.\n",
    "\n",
    "### Tutorials\n",
    "\n",
    "Tutorials are also great! And very much abundant! From more formal ones on sites like [freeCodeCamp](https://www.freecodecamp.org/) and [W3Schools](https://www.w3schools.com/python/default.asp) to less formal ones on [DEV](https://dev.to/), you can get lots of insight from these. There are also lots posted on Medium that you can check out. In addition to text-based tutorials, there are also videos on YouTube. And don't forget the official tutorials in the documentation! Tutorials are a very valuable resource that can help you see how to put pieces of code together in real-world examples.\n",
    "\n",
    "### Stack Overflow (and Pitfalls)\n",
    "\n",
    "If you're starting to learn Python, and you have a question, chances are that someone, somewhere has also had this question.\n",
    "\n",
    "And they've probably asked it online.\n",
    "\n",
    "And so they've almost certainly asked it on [Stack Overflow](https://stackoverflow.com/).\n",
    "\n",
    "Stack Overflow is a **great** resource for finding answers to real questions about programming. People encounter real problems, they post about them, and they get answers.\n",
    "\n",
    "**But** make sure that you're using this tool **properly**.\n",
    "\n",
    "Try the other resources **before** going to Stack Overflow. The answer may turn out to be on the documentation page for the function you're looking for. Stack Overflow answers often include links to the documentation! If there's such a link, **use it**. Check out in more detail. \n",
    "\n",
    "Make sure that you **understand** the code that you're about to add to your project and **don't just copy-paste** it. Re-type it yourself. Coding is a thinking game. Make sure that you have thought about all the code that you're putting in and that you understand why it's there. \n",
    "\n",
    "Use your judgement and intuition when borrowing that code. If it looks sketchy, it could very well be sketchy and there may be a better way.\n",
    "\n",
    "In other words: Documentation **first**, documentation **last**, documentation **always**.\n",
    "\n",
    "### ChatGPT (and Pitfalls)\n",
    "\n",
    "Everything I said above about Stack Overflow. And more.\n",
    "\n",
    "Answers on Stack Overflow are written by **humans** who have written the code, tested it, and run it themselves. So, even if it doesn't work for you, you know that it worked for someone at some point in time.\n",
    "\n",
    "**Be careful** when using ChatGPT for code (if you're allowed to at all). Read the code **carefully**, make extra sure that it makes sense, and test it. Don't just stare at it for two seconds, blink, and think \"Looks right\". Actually try to dissect the code. Don't just trust it because AI wrote it for you. Otherwise you might wind up putting [glue on your pizza](https://www.theverge.com/2024/5/23/24162896/google-ai-overview-hallucinations-glue-in-pizza).\n",
    "\n",
    "You need to make extra sure that it actually makes sense and runs properly, because you don't have that same guarantee that a human has used this exact code in their own experience. Use your coding judgement and intuition.\n",
    "\n",
    "### Concluding Help Remarks...\n",
    "\n",
    "Again, ALWAYS remember to **read the documentation**. Often, if you're stuck, the answer is **right there**. If it's not, then it's probably on Stack Overflow. It's often a good idea to check the documentation **first** to see if there's an official explanation or an official example. And don't just copy a Stack Overflow answer or sample code. Think about what the code is doing. Does it make sense? Is there a better way? Try to look line by line to understand what is going on (play around in the IPython interpreter or in a Jupyter notebook!)."
   ]
  },
  {
   "cell_type": "markdown",
   "id": "4ba0dbe8-6381-4ae1-8b84-24007668aed3",
   "metadata": {},
   "source": [
    "## Other Cool Programming Topics\n",
    "\n",
    "Aside from the packages that I discussed above, there are other cool topics that you should definitely take a look at! These will help you write code that runs better, is easier to update and is easier to share.\n",
    "\n",
    "### Writing Packages\n",
    "\n",
    "We've seen how to install and use packages. But, you can also **write your own packages**. There are many great resources online about writing packages. The one that I most recommend is [this free online book](https://py-pkgs.org/): *Python Packages* by Tomas Beuszen and Tiffany Timbers. It's an easy read and helps you learn not only how to organise your code, but how to publish it, too. The authors also walk through how to render your own nice-looking documentation and host that online. This book doesn't only talk about code, but really about an entire ecosystem of tools that are extremely helpful when developing something new.\n",
    "\n",
    "### Object-Oriented and Functional Programming\n",
    "\n",
    "Python is an **object-oriented language**. So, everything is an object! Using classes, you can create new types of objects. Python offers different ways of creating classes that are worth checking out, including data classes and enumerations. Python also offers **functional programming** tools, allowing you to do more with functions.\n",
    "\n",
    "### Developing Graphical User Interfaces\n",
    "\n",
    "Jupyter notebooks and command line scripts are powerful, but they aren't accessible for people who don't know how to code. Solution: build a graphical user interface! Using PyQt, the process is quite straightforward. Check out [this online tutorial series](https://www.pythonguis.com/) by Martin Fitzpatrick to learn about developing GUIs in Python. It has been a great help to me in my own research.\n",
    "\n",
    "**Warning:** GUI development takes **a lot** of time. Make sure that your processing code is stable before you embark on wrapping it up into a GUI.\n",
    "\n",
    "### Hosting Projects on GitHub\n",
    "\n",
    "What fun is a project if other people can't use it? By hosting your project on GitHub, you let others easily contribute to your project and build on it. Learning Git and GitHub are essential! And so are a few other skills along the way, like writing documents in Markdown. MiCM often has Git and GitHub workshops, so check out their workshop schedule!\n",
    "\n",
    "## Conclusion\n",
    "We've reached the end of this workshop. You now have more skills that will help you:\n",
    "\n",
    "1. develop the software tools you'll need in your research, and\n",
    "2. learn how to use additional packages not covered.\n",
    "\n",
    "If you have any questions, please reach out!\n",
    "\n",
    "```python\n",
    "print(\"Goodbye!\")\n",
    "```"
   ]
  },
  {
   "cell_type": "code",
   "execution_count": null,
   "id": "cac8bd7f-dd3f-4196-b99a-8702949b1226",
   "metadata": {},
   "outputs": [],
   "source": []
  }
 ],
 "metadata": {
  "kernelspec": {
   "display_name": "Python 3 (ipykernel)",
   "language": "python",
   "name": "python3"
  },
  "language_info": {
   "codemirror_mode": {
    "name": "ipython",
    "version": 3
   },
   "file_extension": ".py",
   "mimetype": "text/x-python",
   "name": "python",
   "nbconvert_exporter": "python",
   "pygments_lexer": "ipython3",
   "version": "3.8.19"
  },
  "widgets": {
   "application/vnd.jupyter.widget-state+json": {
    "state": {},
    "version_major": 2,
    "version_minor": 0
   }
  }
 },
 "nbformat": 4,
 "nbformat_minor": 5
}
